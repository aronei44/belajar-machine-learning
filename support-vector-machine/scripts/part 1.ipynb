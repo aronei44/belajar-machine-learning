{
 "cells": [
  {
   "cell_type": "markdown",
   "id": "627dc1a2",
   "metadata": {},
   "source": [
    "# Support Vector Machine"
   ]
  },
  {
   "cell_type": "markdown",
   "id": "0a3b2b53",
   "metadata": {},
   "source": [
    "1. toleransi \n",
    "2. butuh perspektif lain (kernel trick). kernel gaussian (RBF : Radial Basis Function)\n",
    "3. scaling (big picture vs detail oriented) -> gamma kernel coefficient"
   ]
  },
  {
   "cell_type": "markdown",
   "id": "42437ce4",
   "metadata": {},
   "source": [
    "kernelise svm (3d+) dan linear svm"
   ]
  },
  {
   "cell_type": "code",
   "execution_count": null,
   "id": "46dd10dd",
   "metadata": {},
   "outputs": [],
   "source": []
  }
 ],
 "metadata": {
  "kernelspec": {
   "display_name": "Python 3 (ipykernel)",
   "language": "python",
   "name": "python3"
  },
  "language_info": {
   "codemirror_mode": {
    "name": "ipython",
    "version": 3
   },
   "file_extension": ".py",
   "mimetype": "text/x-python",
   "name": "python",
   "nbconvert_exporter": "python",
   "pygments_lexer": "ipython3",
   "version": "3.9.13"
  }
 },
 "nbformat": 4,
 "nbformat_minor": 5
}
